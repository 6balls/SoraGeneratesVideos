{
  "cells": [
    {
      "cell_type": "markdown",
      "metadata": {
        "id": "view-in-github",
        "colab_type": "text"
      },
      "source": [
        "<a href=\"https://colab.research.google.com/github/6balls/SoraGeneratesVideos/blob/main/aistudio_gemini_prompt_freeform_01_public.ipynb\" target=\"_parent\"><img src=\"https://colab.research.google.com/assets/colab-badge.svg\" alt=\"Open In Colab\"/></a>"
      ]
    },
    {
      "cell_type": "markdown",
      "source": [
        "# Gemini Pro on Google AI Studio. API. Colab\n",
        "Приглашаю в Телеграм общаться по это теме: https://t.me/AiExp01\n",
        "\n",
        "Все ссылки здесь: https://t.me/AiExp01/63"
      ],
      "metadata": {
        "id": "5kHY8YonJy36"
      }
    },
    {
      "cell_type": "markdown",
      "source": [
        "## Setup"
      ],
      "metadata": {
        "id": "FKwyTRdwB8aW"
      }
    },
    {
      "cell_type": "markdown",
      "source": [
        "### Install & import"
      ],
      "metadata": {
        "id": "rlE8UqxrDIez"
      }
    },
    {
      "cell_type": "code",
      "source": [
        "!pip -q install google-generativeai==0.3.0\n",
        "!pip -q install google-generativelanguage==0.4.0"
      ],
      "metadata": {
        "id": "RXInneX6xx7c"
      },
      "execution_count": null,
      "outputs": []
    },
    {
      "cell_type": "code",
      "execution_count": null,
      "metadata": {
        "id": "kWIuwKG2_oWE"
      },
      "outputs": [],
      "source": [
        "# Install the client library and import necessary modules.\n",
        "#!pip install google-generativeai\n",
        "import google.generativeai as genai\n",
        "import json\n",
        "import pathlib\n",
        "import pprint\n",
        "import requests\n",
        "import mimetypes\n",
        "from IPython.display import Markdown"
      ]
    },
    {
      "cell_type": "markdown",
      "source": [
        "\n",
        "\n",
        "### Mount Google Drive"
      ],
      "metadata": {
        "id": "qZsRPVv1ITbh"
      }
    },
    {
      "cell_type": "code",
      "source": [
        "from google.colab import drive\n",
        "drive.mount('/gdrive')"
      ],
      "metadata": {
        "id": "d9-t_OkGoLIP"
      },
      "execution_count": null,
      "outputs": []
    },
    {
      "cell_type": "markdown",
      "source": [
        "## Set the API key"
      ],
      "metadata": {
        "id": "Fet3lFjdKHEM"
      }
    },
    {
      "cell_type": "markdown",
      "source": [
        "Add your API_KEY to the secrets manager in the left pannel \"🔑\"."
      ],
      "metadata": {
        "id": "ZoRWILAtCzBE"
      }
    },
    {
      "cell_type": "code",
      "source": [
        "from google.colab import userdata\n",
        "\n",
        "API_KEY=userdata.get('API_KEY')"
      ],
      "metadata": {
        "id": "LaLCwNlkCyQd"
      },
      "execution_count": null,
      "outputs": []
    },
    {
      "cell_type": "code",
      "execution_count": null,
      "metadata": {
        "id": "_SvYoR3WCeKr"
      },
      "outputs": [],
      "source": [
        "# Configure the client library by providing your API key.\n",
        "genai.configure(api_key=API_KEY)"
      ]
    },
    {
      "cell_type": "markdown",
      "source": [
        "### Parse the arguments"
      ],
      "metadata": {
        "id": "weo-o73WDpdm"
      }
    },
    {
      "cell_type": "code",
      "source": [
        "import json\n",
        "\n",
        "model = 'gemini-pro' # @param {isTemplate: true}\n",
        "contents = '[{\"parts\": [{\"text\":\"what\\'s in this picture:\"}, {\"image\": {\"image_url\": \"https://storage.googleapis.com/generativeai-downloads/images/scones.jpg\"}}]}]' # @param {isTemplate: true}\n",
        "generation_config = \"{}\" # @param {isTemplate: true}\n",
        "safety_settings = \"{}\" # @param {isTemplate: true}\n",
        "\n",
        "contents = json.loads(contents)\n",
        "generation_config = json.loads(generation_config)\n",
        "safety_settings = json.loads(safety_settings)\n",
        "\n",
        "stream = False"
      ],
      "metadata": {
        "id": "uIog-0SyDuIF"
      },
      "execution_count": null,
      "outputs": []
    },
    {
      "cell_type": "code",
      "source": [
        "contents"
      ],
      "metadata": {
        "id": "T3yo4eMqyWEZ"
      },
      "execution_count": null,
      "outputs": []
    },
    {
      "cell_type": "markdown",
      "source": [
        "### Load image data from Drive-IDs"
      ],
      "metadata": {
        "id": "yVIjklecE5U0"
      }
    },
    {
      "cell_type": "code",
      "source": [
        "for content in contents:\n",
        "  for n, part in enumerate(content['parts']):\n",
        "    if image:=part.get('image', None):\n",
        "      if drive_id:=image.get('drive_id', None):\n",
        "        path = next(pathlib.Path(f'/gdrive/.shortcut-targets-by-id/{drive_id}').glob('*'))\n",
        "        data = path.read_bytes()\n",
        "        mime_type, _ = mimetypes.guess_type(path)\n",
        "      elif image_url:=image.get('image_url', None):\n",
        "        response = requests.get(image_url)\n",
        "        data = response.content\n",
        "        mime_type = response.headers['content-type']\n",
        "      else:\n",
        "        raise ValueError('Either drive_id or image_url must be provided.')\n",
        "\n",
        "      if mime_type is None:\n",
        "        # Guess!\n",
        "        mime_type = 'image/png'\n",
        "\n",
        "      blob = {'data': data, 'mime_type': mime_type}\n",
        "      content['parts'][n] = blob"
      ],
      "metadata": {
        "id": "8TehY-utE3OR"
      },
      "execution_count": null,
      "outputs": []
    },
    {
      "cell_type": "markdown",
      "source": [
        "### Call the API"
      ],
      "metadata": {
        "id": "E7zAD69vE92b"
      }
    },
    {
      "cell_type": "code",
      "source": [
        "model = 'gemini-pro-vision'"
      ],
      "metadata": {
        "id": "QuHudQa1sRzq"
      },
      "execution_count": null,
      "outputs": []
    },
    {
      "cell_type": "code",
      "execution_count": null,
      "metadata": {
        "id": "LB2LxPmAB95V"
      },
      "outputs": [],
      "source": [
        "# Call the model and print the response.\n",
        "gemini = genai.GenerativeModel(model_name=model)\n",
        "\n",
        "response = gemini.generate_content(\n",
        "    contents,\n",
        "    generation_config=generation_config,\n",
        "    safety_settings=safety_settings,\n",
        "    stream=False)"
      ]
    },
    {
      "cell_type": "code",
      "source": [
        "if generation_config.get('candidate_count', 1) == 1:\n",
        "  display(Markdown(response.text))\n",
        "else:\n",
        "  print(response.candidates)"
      ],
      "metadata": {
        "id": "Lm3RXwYuGtZK"
      },
      "execution_count": null,
      "outputs": []
    },
    {
      "cell_type": "code",
      "source": [
        "response.candidates"
      ],
      "metadata": {
        "id": "HjT4jtJc2aAk"
      },
      "execution_count": null,
      "outputs": []
    },
    {
      "cell_type": "code",
      "source": [
        "response.prompt_feedback"
      ],
      "metadata": {
        "id": "JbKuUc3NGxYD"
      },
      "execution_count": null,
      "outputs": []
    },
    {
      "cell_type": "markdown",
      "source": [
        "## Генерация ответана текстовый запрос"
      ],
      "metadata": {
        "id": "mqFmD0HFCN5u"
      }
    },
    {
      "cell_type": "code",
      "source": [
        "model = genai.GenerativeModel('gemini-pro')\n",
        "response = model.generate_content(\"Напишите пост в Телеграмм, чтобы сообщить, что Gemini Pro теперь доступен всем разработчикам\")"
      ],
      "metadata": {
        "id": "PBCUBBZ_qU_q"
      },
      "execution_count": null,
      "outputs": []
    },
    {
      "cell_type": "code",
      "source": [
        "Markdown(response.text)"
      ],
      "metadata": {
        "id": "XGogS8VQuzdU"
      },
      "execution_count": null,
      "outputs": []
    }
  ],
  "metadata": {
    "colab": {
      "provenance": [],
      "private_outputs": true,
      "include_colab_link": true
    },
    "kernelspec": {
      "display_name": "Python 3",
      "name": "python3"
    }
  },
  "nbformat": 4,
  "nbformat_minor": 0
}